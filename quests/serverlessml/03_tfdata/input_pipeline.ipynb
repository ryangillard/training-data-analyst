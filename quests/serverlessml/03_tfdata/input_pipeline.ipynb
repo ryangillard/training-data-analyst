{
 "cells": [
  {
   "cell_type": "markdown",
   "metadata": {},
   "source": [
    "# Input pipeline into Keras\n",
    "\n",
    "In this notebook, we will look at how to read large datasets, datasets that may not fit into memory, using TensorFlow. We can use the tf.data pipeline to feed data to Keras models that use a TensorFlow backend.\n",
    "\n",
    "Let's start off with the Python imports that we need."
   ]
  },
  {
   "cell_type": "code",
   "execution_count": 1,
   "metadata": {},
   "outputs": [
    {
     "name": "stdout",
     "output_type": "stream",
     "text": [
      "2.0.0-dev20190612\n"
     ]
    }
   ],
   "source": [
    "import os, json, math\n",
    "import numpy as np\n",
    "import tensorflow as tf\n",
    "print(tf.__version__)"
   ]
  },
  {
   "cell_type": "markdown",
   "metadata": {},
   "source": [
    "## Locating the CSV files\n",
    "\n",
    "We will start with the CSV files that we wrote out in the [first notebook](../01_explore/taxifare.iypnb) of this sequence. Just so you don't have to run the notebook, we saved a copy in ../data"
   ]
  },
  {
   "cell_type": "code",
   "execution_count": 2,
   "metadata": {},
   "outputs": [
    {
     "name": "stdout",
     "output_type": "stream",
     "text": [
      "-rw-r--r-- 1 jupyter jupyter 126266 Jun  3 15:48 ../data/taxi-test.csv\n",
      "-rw-r--r-- 1 jupyter jupyter 593612 Jun  3 15:48 ../data/taxi-train.csv\n",
      "-rw-r--r-- 1 jupyter jupyter 126833 Jun  3 15:48 ../data/taxi-valid.csv\n"
     ]
    }
   ],
   "source": [
    "!ls -l ../data/*.csv"
   ]
  },
  {
   "cell_type": "markdown",
   "metadata": {},
   "source": [
    "## Use tf.data to read the CSV files\n",
    "\n",
    "See the documentation for [make_csv_dataset](https://www.tensorflow.org/api_docs/python/tf/data/experimental/make_csv_dataset).\n",
    "If you have TFRecords (which is recommended), use [make_batched_features_dataset](https://www.tensorflow.org/api_docs/python/tf/data/experimental/make_batched_features_dataset) instead."
   ]
  },
  {
   "cell_type": "code",
   "execution_count": 3,
   "metadata": {},
   "outputs": [],
   "source": [
    "CSV_COLUMNS  = ['fare_amount',  'pickup_datetime',\n",
    "                'pickup_longitude', 'pickup_latitude', \n",
    "                'dropoff_longitude', 'dropoff_latitude', \n",
    "                'passenger_count', 'key']\n",
    "LABEL_COLUMN = 'fare_amount'\n",
    "DEFAULTS     = [[0.0],['na'],[0.0],[0.0],[0.0],[0.0],[0.0],['na']]"
   ]
  },
  {
   "cell_type": "code",
   "execution_count": 4,
   "metadata": {},
   "outputs": [
    {
     "name": "stderr",
     "output_type": "stream",
     "text": [
      "WARNING: Logging before flag parsing goes to stderr.\n",
      "W0612 19:18:50.854974 139700064765696 deprecation.py:323] From /home/jupyter/.local/lib/python3.5/site-packages/tensorflow_core/python/data/experimental/ops/readers.py:498: parallel_interleave (from tensorflow.python.data.experimental.ops.interleave_ops) is deprecated and will be removed in a future version.\n",
      "Instructions for updating:\n",
      "Use `tf.data.Dataset.interleave(map_func, cycle_length, block_length, num_parallel_calls=tf.data.experimental.AUTOTUNE)` instead. If sloppy execution is desired, use `tf.data.Options.experimental_determinstic`.\n",
      "W0612 19:18:50.892905 139700064765696 deprecation.py:323] From /home/jupyter/.local/lib/python3.5/site-packages/tensorflow_core/python/data/experimental/ops/readers.py:211: shuffle_and_repeat (from tensorflow.python.data.experimental.ops.shuffle_ops) is deprecated and will be removed in a future version.\n",
      "Instructions for updating:\n",
      "Use `tf.data.Dataset.shuffle(buffer_size, seed)` followed by `tf.data.Dataset.repeat(count)`. Static tf.data optimizations will take care of using the fused implementation.\n"
     ]
    },
    {
     "name": "stdout",
     "output_type": "stream",
     "text": [
      "<PrefetchDataset shapes: OrderedDict([(fare_amount, (1,)), (pickup_datetime, (1,)), (pickup_longitude, (1,)), (pickup_latitude, (1,)), (dropoff_longitude, (1,)), (dropoff_latitude, (1,)), (passenger_count, (1,)), (key, (1,))]), types: OrderedDict([(fare_amount, tf.float32), (pickup_datetime, tf.string), (pickup_longitude, tf.float32), (pickup_latitude, tf.float32), (dropoff_longitude, tf.float32), (dropoff_latitude, tf.float32), (passenger_count, tf.float32), (key, tf.string)])>\n"
     ]
    }
   ],
   "source": [
    "# load the training data\n",
    "def load_dataset(pattern):\n",
    "  return tf.data.experimental.make_csv_dataset(pattern, 1, CSV_COLUMNS, DEFAULTS)\n",
    "\n",
    "tempds = load_dataset('../data/taxi-train*')\n",
    "print(tempds)"
   ]
  },
  {
   "cell_type": "markdown",
   "metadata": {},
   "source": [
    "Note that this is a prefetched dataset. If you loop over the dataset, you'll get the rows one-by-one. Let's convert each row into a Python dictionary:"
   ]
  },
  {
   "cell_type": "code",
   "execution_count": 5,
   "metadata": {},
   "outputs": [
    {
     "name": "stdout",
     "output_type": "stream",
     "text": [
      "0 {'fare_amount': array([3.3], dtype=float32), 'dropoff_latitude': array([40.74336], dtype=float32), 'dropoff_longitude': array([-73.9963], dtype=float32), 'passenger_count': array([1.], dtype=float32), 'pickup_datetime': array([b'2011-03-19 03:32:00+00:00'], dtype=object), 'pickup_longitude': array([-73.99346], dtype=float32), 'pickup_latitude': array([40.746967], dtype=float32), 'key': array([b'3736'], dtype=object)}\n",
      "1 {'fare_amount': array([15.], dtype=float32), 'dropoff_latitude': array([40.763405], dtype=float32), 'dropoff_longitude': array([-73.97676], dtype=float32), 'passenger_count': array([1.], dtype=float32), 'pickup_datetime': array([b'2014-09-16 09:34:40+00:00'], dtype=object), 'pickup_longitude': array([-74.00079], dtype=float32), 'pickup_latitude': array([40.74736], dtype=float32), 'key': array([b'4671'], dtype=object)}\n",
      "2 {'fare_amount': array([11.], dtype=float32), 'dropoff_latitude': array([40.786392], dtype=float32), 'dropoff_longitude': array([-73.95283], dtype=float32), 'passenger_count': array([5.], dtype=float32), 'pickup_datetime': array([b'2014-10-06 15:16:00+00:00'], dtype=object), 'pickup_longitude': array([-73.96925], dtype=float32), 'pickup_latitude': array([40.763966], dtype=float32), 'key': array([b'234'], dtype=object)}\n",
      "3 {'fare_amount': array([5.3], dtype=float32), 'dropoff_latitude': array([40.7491], dtype=float32), 'dropoff_longitude': array([-73.983665], dtype=float32), 'passenger_count': array([1.], dtype=float32), 'pickup_datetime': array([b'2010-10-19 10:16:38+00:00'], dtype=object), 'pickup_longitude': array([-73.97482], dtype=float32), 'pickup_latitude': array([40.75629], dtype=float32), 'key': array([b'7176'], dtype=object)}\n"
     ]
    }
   ],
   "source": [
    "# print a few of the rows\n",
    "for n, data in enumerate(tempds):\n",
    "    row_data = {k: v.numpy() for k,v in data.items()}\n",
    "    print(n, row_data)\n",
    "    if n > 2:\n",
    "        break"
   ]
  },
  {
   "cell_type": "markdown",
   "metadata": {},
   "source": [
    "What we really need is a dictionary of features + a label. So, we have to do two things to the above dictionary. (1) remove the unwanted column \"key\" and (2) keep the label separate from the features."
   ]
  },
  {
   "cell_type": "code",
   "execution_count": 6,
   "metadata": {},
   "outputs": [
    {
     "name": "stdout",
     "output_type": "stream",
     "text": [
      "0 [3.3] {'dropoff_latitude': array([40.74336], dtype=float32), 'dropoff_longitude': array([-73.9963], dtype=float32), 'passenger_count': array([1.], dtype=float32), 'pickup_longitude': array([-73.99346], dtype=float32), 'pickup_latitude': array([40.746967], dtype=float32)}\n",
      "1 [15.] {'dropoff_latitude': array([40.763405], dtype=float32), 'dropoff_longitude': array([-73.97676], dtype=float32), 'passenger_count': array([1.], dtype=float32), 'pickup_longitude': array([-74.00079], dtype=float32), 'pickup_latitude': array([40.74736], dtype=float32)}\n",
      "2 [11.] {'dropoff_latitude': array([40.786392], dtype=float32), 'dropoff_longitude': array([-73.95283], dtype=float32), 'passenger_count': array([5.], dtype=float32), 'pickup_longitude': array([-73.96925], dtype=float32), 'pickup_latitude': array([40.763966], dtype=float32)}\n",
      "3 [5.3] {'dropoff_latitude': array([40.7491], dtype=float32), 'dropoff_longitude': array([-73.983665], dtype=float32), 'passenger_count': array([1.], dtype=float32), 'pickup_longitude': array([-73.97482], dtype=float32), 'pickup_latitude': array([40.75629], dtype=float32)}\n"
     ]
    }
   ],
   "source": [
    "# get features, label\n",
    "def features_and_labels(row_data):\n",
    "    for unwanted_col in ['pickup_datetime', 'key']:\n",
    "        row_data.pop(unwanted_col)\n",
    "    label = row_data.pop(LABEL_COLUMN)\n",
    "    return row_data, label  # features, label\n",
    "\n",
    "# print a few rows to make it sure works\n",
    "for n, data in enumerate(tempds):\n",
    "    row_data = {k: v.numpy() for k,v in data.items()}\n",
    "    features, label = features_and_labels(row_data)\n",
    "    print(n, label, features)\n",
    "    if n > 2:\n",
    "        break"
   ]
  },
  {
   "cell_type": "markdown",
   "metadata": {},
   "source": [
    "## Batching\n",
    "\n",
    "Let's do both (loading, features_label)\n",
    "in our load_dataset function, and also add batching."
   ]
  },
  {
   "cell_type": "code",
   "execution_count": 7,
   "metadata": {},
   "outputs": [
    {
     "name": "stdout",
     "output_type": "stream",
     "text": [
      "[(OrderedDict([('pickup_longitude', <tf.Tensor: id=295, shape=(2,), dtype=float32, numpy=array([-73.95522, -73.97164], dtype=float32)>), ('pickup_latitude', <tf.Tensor: id=294, shape=(2,), dtype=float32, numpy=array([40.767857, 40.746677], dtype=float32)>), ('dropoff_longitude', <tf.Tensor: id=292, shape=(2,), dtype=float32, numpy=array([-73.98313, -73.96742], dtype=float32)>), ('dropoff_latitude', <tf.Tensor: id=291, shape=(2,), dtype=float32, numpy=array([40.755756, 40.760128], dtype=float32)>), ('passenger_count', <tf.Tensor: id=293, shape=(2,), dtype=float32, numpy=array([1., 6.], dtype=float32)>)]), <tf.Tensor: id=296, shape=(2,), dtype=float32, numpy=array([8.5, 6.5], dtype=float32)>), (OrderedDict([('pickup_longitude', <tf.Tensor: id=301, shape=(2,), dtype=float32, numpy=array([-73.95229 , -73.945946], dtype=float32)>), ('pickup_latitude', <tf.Tensor: id=300, shape=(2,), dtype=float32, numpy=array([40.777195, 40.77777 ], dtype=float32)>), ('dropoff_longitude', <tf.Tensor: id=298, shape=(2,), dtype=float32, numpy=array([-73.98605, -73.95558], dtype=float32)>), ('dropoff_latitude', <tf.Tensor: id=297, shape=(2,), dtype=float32, numpy=array([40.730904, 40.779686], dtype=float32)>), ('passenger_count', <tf.Tensor: id=299, shape=(2,), dtype=float32, numpy=array([1., 5.], dtype=float32)>)]), <tf.Tensor: id=302, shape=(2,), dtype=float32, numpy=array([11.7,  4.5], dtype=float32)>), (OrderedDict([('pickup_longitude', <tf.Tensor: id=307, shape=(2,), dtype=float32, numpy=array([-73.97574, -73.9871 ], dtype=float32)>), ('pickup_latitude', <tf.Tensor: id=306, shape=(2,), dtype=float32, numpy=array([40.75744 , 40.739094], dtype=float32)>), ('dropoff_longitude', <tf.Tensor: id=304, shape=(2,), dtype=float32, numpy=array([-73.9814 , -73.96342], dtype=float32)>), ('dropoff_latitude', <tf.Tensor: id=303, shape=(2,), dtype=float32, numpy=array([40.744026, 40.76591 ], dtype=float32)>), ('passenger_count', <tf.Tensor: id=305, shape=(2,), dtype=float32, numpy=array([1., 1.], dtype=float32)>)]), <tf.Tensor: id=308, shape=(2,), dtype=float32, numpy=array([ 5.3, 17. ], dtype=float32)>)]\n"
     ]
    }
   ],
   "source": [
    "def load_dataset(pattern, batch_size):\n",
    "  return (\n",
    "      tf.data.experimental.make_csv_dataset(pattern, batch_size, CSV_COLUMNS, DEFAULTS)\n",
    "             .map(features_and_labels) # features, label\n",
    "  )\n",
    "\n",
    "# try changing the batch size and watch what happens.\n",
    "tempds = load_dataset('../data/taxi-train*', batch_size=2)\n",
    "print(list(tempds.take(3))) # truncate and print as a list "
   ]
  },
  {
   "cell_type": "markdown",
   "metadata": {},
   "source": [
    "## Shuffling\n",
    "\n",
    "When training a deep learning model in batches over multiple workers, it is helpful if we shuffle the data. That way, different workers will be working on different parts of the input file at the same time, and so averaging gradients across workers will help. Also, during training, we will need to read the data indefinitely."
   ]
  },
  {
   "cell_type": "code",
   "execution_count": 8,
   "metadata": {},
   "outputs": [
    {
     "name": "stdout",
     "output_type": "stream",
     "text": [
      "[(OrderedDict([('pickup_longitude', <tf.Tensor: id=429, shape=(2,), dtype=float32, numpy=array([-73.97753, -73.97575], dtype=float32)>), ('pickup_latitude', <tf.Tensor: id=428, shape=(2,), dtype=float32, numpy=array([40.74272 , 40.758064], dtype=float32)>), ('dropoff_longitude', <tf.Tensor: id=426, shape=(2,), dtype=float32, numpy=array([-73.97834, -73.94462], dtype=float32)>), ('dropoff_latitude', <tf.Tensor: id=425, shape=(2,), dtype=float32, numpy=array([40.721577, 40.780113], dtype=float32)>), ('passenger_count', <tf.Tensor: id=427, shape=(2,), dtype=float32, numpy=array([1., 1.], dtype=float32)>)]), <tf.Tensor: id=430, shape=(2,), dtype=float32, numpy=array([7.7, 8.5], dtype=float32)>)]\n",
      "[(OrderedDict([('pickup_longitude', <tf.Tensor: id=533, shape=(2,), dtype=float32, numpy=array([-73.87311, -73.98722], dtype=float32)>), ('pickup_latitude', <tf.Tensor: id=532, shape=(2,), dtype=float32, numpy=array([40.774097, 40.7204  ], dtype=float32)>), ('dropoff_longitude', <tf.Tensor: id=530, shape=(2,), dtype=float32, numpy=array([-74.00713 , -73.985275], dtype=float32)>), ('dropoff_latitude', <tf.Tensor: id=529, shape=(2,), dtype=float32, numpy=array([40.708176, 40.732525], dtype=float32)>), ('passenger_count', <tf.Tensor: id=531, shape=(2,), dtype=float32, numpy=array([1., 1.], dtype=float32)>)]), <tf.Tensor: id=534, shape=(2,), dtype=float32, numpy=array([28.1,  8. ], dtype=float32)>)]\n"
     ]
    }
   ],
   "source": [
    "def load_dataset(pattern, batch_size=1, mode=tf.estimator.ModeKeys.EVAL):\n",
    "  dataset = (tf.data.experimental.make_csv_dataset(pattern, batch_size, CSV_COLUMNS, DEFAULTS)\n",
    "             .map(features_and_labels) # features, label\n",
    "             .cache())\n",
    "  if mode == tf.estimator.ModeKeys.TRAIN:\n",
    "        dataset = dataset.shuffle(1000).repeat()\n",
    "  dataset = dataset.prefetch(1) # take advantage of multi-threading; 1=AUTOTUNE\n",
    "  return dataset\n",
    "\n",
    "tempds = load_dataset('../data/taxi-train*', 2, tf.estimator.ModeKeys.TRAIN)\n",
    "print(list(tempds.take(1)))\n",
    "tempds = load_dataset('../data/taxi-valid*', 2, tf.estimator.ModeKeys.EVAL)\n",
    "print(list(tempds.take(1)))"
   ]
  },
  {
   "cell_type": "markdown",
   "metadata": {},
   "source": [
    "In the next notebook, we will build the model using this input pipeline."
   ]
  },
  {
   "cell_type": "markdown",
   "metadata": {},
   "source": [
    "Copyright 2019 Google Inc.\n",
    "Licensed under the Apache License, Version 2.0 (the \"License\"); you may not use this file except in compliance with the License. You may obtain a copy of the License at\n",
    "http://www.apache.org/licenses/LICENSE-2.0\n",
    "Unless required by applicable law or agreed to in writing, software distributed under the License is distributed on an \"AS IS\" BASIS, WITHOUT WARRANTIES OR CONDITIONS OF ANY KIND, either express or implied. See the License for the specific language governing permissions and limitations under the License."
   ]
  }
 ],
 "metadata": {
  "kernelspec": {
   "display_name": "Python 3",
   "language": "python",
   "name": "python3"
  },
  "language_info": {
   "codemirror_mode": {
    "name": "ipython",
    "version": 3
   },
   "file_extension": ".py",
   "mimetype": "text/x-python",
   "name": "python",
   "nbconvert_exporter": "python",
   "pygments_lexer": "ipython3",
   "version": "3.5.3"
  }
 },
 "nbformat": 4,
 "nbformat_minor": 2
}
